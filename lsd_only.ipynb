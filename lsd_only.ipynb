{
  "nbformat": 4,
  "nbformat_minor": 0,
  "metadata": {
    "colab": {
      "name": "lsd_only.ipynb",
      "version": "0.3.2",
      "provenance": [],
      "collapsed_sections": []
    },
    "kernelspec": {
      "name": "python3",
      "display_name": "Python 3"
    }
  },
  "cells": [
    {
      "metadata": {
        "id": "OOgL2BhvmfX5",
        "colab_type": "code",
        "outputId": "ef3fede9-cb01-493a-9a1e-458f1b489999",
        "colab": {
          "base_uri": "https://localhost:8080/",
          "height": 122
        }
      },
      "cell_type": "code",
      "source": [
        "\n",
        "from google.colab import drive\n",
        "drive.mount(\"/content/drive\", force_remount=True)"
      ],
      "execution_count": 0,
      "outputs": [
        {
          "output_type": "stream",
          "text": [
            "Go to this URL in a browser: https://accounts.google.com/o/oauth2/auth?client_id=947318989803-6bn6qk8qdgf4n4g3pfee6491hc0brc4i.apps.googleusercontent.com&redirect_uri=urn%3Aietf%3Awg%3Aoauth%3A2.0%3Aoob&scope=email%20https%3A%2F%2Fwww.googleapis.com%2Fauth%2Fdocs.test%20https%3A%2F%2Fwww.googleapis.com%2Fauth%2Fdrive%20https%3A%2F%2Fwww.googleapis.com%2Fauth%2Fdrive.photos.readonly%20https%3A%2F%2Fwww.googleapis.com%2Fauth%2Fpeopleapi.readonly&response_type=code\n",
            "\n",
            "Enter your authorization code:\n",
            "··········\n",
            "Mounted at /content/drive\n"
          ],
          "name": "stdout"
        }
      ]
    },
    {
      "metadata": {
        "id": "4M20sZdKmji8",
        "colab_type": "code",
        "colab": {}
      },
      "cell_type": "code",
      "source": [
        "import os\n",
        "import sys\n",
        "import random\n",
        "import math\n",
        "import re\n",
        "import time\n",
        "import numpy as np\n",
        "import cv2\n",
        "import matplotlib\n",
        "import matplotlib.pyplot as plt\n",
        "import pandas as pd\n",
        "from PIL import Image"
      ],
      "execution_count": 0,
      "outputs": []
    },
    {
      "metadata": {
        "id": "qcsaU1hTtsqL",
        "colab_type": "code",
        "colab": {}
      },
      "cell_type": "code",
      "source": [
        "def to_pgm() #convert png symbols on net to pgm and save\n"
      ],
      "execution_count": 0,
      "outputs": []
    },
    {
      "metadata": {
        "colab_type": "code",
        "outputId": "fba0d871-f569-4b82-89b6-e52b17e176fb",
        "id": "iBumrstN2rNJ",
        "colab": {
          "base_uri": "https://localhost:8080/",
          "height": 349
        }
      },
      "cell_type": "code",
      "source": [
        "image = cv2.imread('/content/drive/My Drive/led1.png')\n",
        "plt.imshow(image)\n",
        "\n",
        "resized_image = cv2.resize(image, (64,64)) \n",
        "plt.imshow(resized_image)\n",
        "\n",
        "plt.imsave('/content/drive/My Drive/lsd_1.6/resized_led1.png',resized_image)\n"
      ],
      "execution_count": 0,
      "outputs": [
        {
          "output_type": "display_data",
          "data": {
            "image/png": "[encoded data removed]",
            "text/plain": [
              "<Figure size 576x396 with 1 Axes>"
            ]
          },
          "metadata": {
            "tags": []
          }
        }
      ]
    },
    {
      "metadata": {
        "id": "JvNmU5yKmvfg",
        "colab_type": "code",
        "outputId": "9864194e-8693-4561-e14c-b21aa77229cb",
        "colab": {
          "base_uri": "https://localhost:8080/",
          "height": 349
        }
      },
      "cell_type": "code",
      "source": [
        "image = cv2.imread('/content/drive/My Drive/lsd_1.6/di.png')\n",
        "plt.imshow(image)\n",
        "\n",
        "resized_image = cv2.resize(image, (64,64)) \n",
        "plt.imshow(resized_image)\n",
        "\n",
        "plt.imsave('/content/drive/My Drive/lsd_1.6/resized_di.png',resized_image)\n"
      ],
      "execution_count": 0,
      "outputs": [
        {
          "output_type": "display_data",
          "data": {
            "image/png": "[encoded data removed]",
            "text/plain": [
              "<Figure size 576x396 with 1 Axes>"
            ]
          },
          "metadata": {
            "tags": []
          }
        }
      ]
    },
    {
      "metadata": {
        "id": "VTD81iOhmyBD",
        "colab_type": "code",
        "outputId": "b4ae72fc-ab91-47db-c445-6c4d84684d24",
        "colab": {
          "base_uri": "https://localhost:8080/",
          "height": 34
        }
      },
      "cell_type": "code",
      "source": [
        "cd /content/drive/My\\ Drive/lsd_1.6/"
      ],
      "execution_count": 0,
      "outputs": [
        {
          "output_type": "stream",
          "text": [
            "/content/drive/My Drive/lsd_1.6\n"
          ],
          "name": "stdout"
        }
      ]
    },
    {
      "metadata": {
        "id": "YGpGVWazm33K",
        "colab_type": "code",
        "outputId": "022e37cc-ded7-490c-a942-d98311854780",
        "colab": {
          "base_uri": "https://localhost:8080/",
          "height": 34
        }
      },
      "cell_type": "code",
      "source": [
        "!make clean"
      ],
      "execution_count": 0,
      "outputs": [
        {
          "output_type": "stream",
          "text": [
            "rm -f lsd lsd_call_example\n"
          ],
          "name": "stdout"
        }
      ]
    },
    {
      "metadata": {
        "id": "BChzH1K2m7TM",
        "colab_type": "code",
        "outputId": "50b5f04c-3d52-4aa5-a0d3-85ad572eac6e",
        "colab": {
          "base_uri": "https://localhost:8080/",
          "height": 51
        }
      },
      "cell_type": "code",
      "source": [
        "!make"
      ],
      "execution_count": 0,
      "outputs": [
        {
          "output_type": "stream",
          "text": [
            "cc -O3 -o lsd lsd_cmd.c lsd.c -lm\n",
            "cc -o lsd_call_example lsd_call_example.c lsd.c -lm\n"
          ],
          "name": "stdout"
        }
      ]
    },
    {
      "metadata": {
        "id": "8ekMyZYnm8TW",
        "colab_type": "code",
        "colab": {}
      },
      "cell_type": "code",
      "source": [
        "!./lsd -P diode.result.eps resized_di.PGM diode.result.txt"
      ],
      "execution_count": 0,
      "outputs": []
    },
    {
      "metadata": {
        "id": "co_aTk6wqu9P",
        "colab_type": "code",
        "colab": {}
      },
      "cell_type": "code",
      "source": [
        "def augment_lines(filename):\n",
        "  \n",
        "  lines = pd.read_csv(filename,delimiter=' ',header=None)\n",
        "  lines['slope'] = (lines[3] - lines[1])/(lines[2]-lines[0])\n",
        "  lines['degree'] = (np.arctan(lines['slope'])*(180/np.pi))\n",
        "  lines['length'] = np.sqrt( (lines[0] - lines[2])**2 + (lines[3] - lines[1])**2 )\n",
        "  \n",
        "  return lines\n",
        "  "
      ],
      "execution_count": 0,
      "outputs": []
    },
    {
      "metadata": {
        "id": "q94elmQGrJ22",
        "colab_type": "code",
        "outputId": "192efb77-c7a8-44f0-ac66-bcf85a08479d",
        "colab": {
          "base_uri": "https://localhost:8080/",
          "height": 514
        }
      },
      "cell_type": "code",
      "source": [
        "lines_df = augment_lines('diode.result.txt')\n",
        "lines_df\n",
        "#1,3,4"
      ],
      "execution_count": 0,
      "outputs": [
        {
          "output_type": "execute_result",
          "data": {
            "text/html": [
              "<div>\n",
              "<style scoped>\n",
              "    .dataframe tbody tr th:only-of-type {\n",
              "        vertical-align: middle;\n",
              "    }\n",
              "\n",
              "    .dataframe tbody tr th {\n",
              "        vertical-align: top;\n",
              "    }\n",
              "\n",
              "    .dataframe thead th {\n",
              "        text-align: right;\n",
              "    }\n",
              "</style>\n",
              "<table border=\"1\" class=\"dataframe\">\n",
              "  <thead>\n",
              "    <tr style=\"text-align: right;\">\n",
              "      <th></th>\n",
              "      <th>0</th>\n",
              "      <th>1</th>\n",
              "      <th>2</th>\n",
              "      <th>3</th>\n",
              "      <th>4</th>\n",
              "      <th>5</th>\n",
              "      <th>6</th>\n",
              "      <th>7</th>\n",
              "      <th>slope</th>\n",
              "      <th>degree</th>\n",
              "      <th>length</th>\n",
              "    </tr>\n",
              "  </thead>\n",
              "  <tbody>\n",
              "    <tr>\n",
              "      <th>0</th>\n",
              "      <td>40.733211</td>\n",
              "      <td>34.358104</td>\n",
              "      <td>41.060093</td>\n",
              "      <td>60.635137</td>\n",
              "      <td>2.499807</td>\n",
              "      <td>0.125</td>\n",
              "      <td>21.595404</td>\n",
              "      <td>NaN</td>\n",
              "      <td>80.386907</td>\n",
              "      <td>89.287287</td>\n",
              "      <td>26.279066</td>\n",
              "    </tr>\n",
              "    <tr>\n",
              "      <th>1</th>\n",
              "      <td>24.000706</td>\n",
              "      <td>9.375336</td>\n",
              "      <td>23.983916</td>\n",
              "      <td>53.125330</td>\n",
              "      <td>1.266310</td>\n",
              "      <td>0.125</td>\n",
              "      <td>19.595805</td>\n",
              "      <td>NaN</td>\n",
              "      <td>-2605.717332</td>\n",
              "      <td>-89.978012</td>\n",
              "      <td>43.749997</td>\n",
              "    </tr>\n",
              "    <tr>\n",
              "      <th>2</th>\n",
              "      <td>41.000295</td>\n",
              "      <td>3.117732</td>\n",
              "      <td>40.792405</td>\n",
              "      <td>28.136778</td>\n",
              "      <td>2.489527</td>\n",
              "      <td>0.125</td>\n",
              "      <td>25.838548</td>\n",
              "      <td>NaN</td>\n",
              "      <td>-120.347520</td>\n",
              "      <td>-89.523925</td>\n",
              "      <td>25.019910</td>\n",
              "    </tr>\n",
              "    <tr>\n",
              "      <th>3</th>\n",
              "      <td>38.465805</td>\n",
              "      <td>31.157725</td>\n",
              "      <td>24.592352</td>\n",
              "      <td>7.480060</td>\n",
              "      <td>3.833830</td>\n",
              "      <td>0.125</td>\n",
              "      <td>29.592747</td>\n",
              "      <td>NaN</td>\n",
              "      <td>1.706689</td>\n",
              "      <td>59.632685</td>\n",
              "      <td>27.442750</td>\n",
              "    </tr>\n",
              "    <tr>\n",
              "      <th>4</th>\n",
              "      <td>24.815128</td>\n",
              "      <td>55.152086</td>\n",
              "      <td>38.653490</td>\n",
              "      <td>31.453684</td>\n",
              "      <td>3.592925</td>\n",
              "      <td>0.125</td>\n",
              "      <td>31.760916</td>\n",
              "      <td>NaN</td>\n",
              "      <td>-1.712515</td>\n",
              "      <td>-59.717785</td>\n",
              "      <td>27.442932</td>\n",
              "    </tr>\n",
              "    <tr>\n",
              "      <th>5</th>\n",
              "      <td>24.195223</td>\n",
              "      <td>0.729189</td>\n",
              "      <td>39.040475</td>\n",
              "      <td>26.344439</td>\n",
              "      <td>3.809822</td>\n",
              "      <td>0.125</td>\n",
              "      <td>31.368997</td>\n",
              "      <td>NaN</td>\n",
              "      <td>1.725484</td>\n",
              "      <td>59.905674</td>\n",
              "      <td>29.606123</td>\n",
              "    </tr>\n",
              "    <tr>\n",
              "      <th>6</th>\n",
              "      <td>1.853932</td>\n",
              "      <td>29.080760</td>\n",
              "      <td>21.887922</td>\n",
              "      <td>29.272115</td>\n",
              "      <td>3.905034</td>\n",
              "      <td>0.125</td>\n",
              "      <td>30.752233</td>\n",
              "      <td>NaN</td>\n",
              "      <td>0.009552</td>\n",
              "      <td>0.547245</td>\n",
              "      <td>20.034904</td>\n",
              "    </tr>\n",
              "    <tr>\n",
              "      <th>7</th>\n",
              "      <td>41.860098</td>\n",
              "      <td>29.282451</td>\n",
              "      <td>63.135226</td>\n",
              "      <td>29.046302</td>\n",
              "      <td>3.944003</td>\n",
              "      <td>0.125</td>\n",
              "      <td>26.692565</td>\n",
              "      <td>NaN</td>\n",
              "      <td>-0.011100</td>\n",
              "      <td>-0.635944</td>\n",
              "      <td>21.276439</td>\n",
              "    </tr>\n",
              "    <tr>\n",
              "      <th>8</th>\n",
              "      <td>38.684676</td>\n",
              "      <td>37.197069</td>\n",
              "      <td>23.916209</td>\n",
              "      <td>62.860986</td>\n",
              "      <td>3.679668</td>\n",
              "      <td>0.125</td>\n",
              "      <td>31.237266</td>\n",
              "      <td>NaN</td>\n",
              "      <td>-1.737751</td>\n",
              "      <td>-60.081447</td>\n",
              "      <td>29.609867</td>\n",
              "    </tr>\n",
              "    <tr>\n",
              "      <th>9</th>\n",
              "      <td>22.131335</td>\n",
              "      <td>63.120655</td>\n",
              "      <td>21.665360</td>\n",
              "      <td>35.628553</td>\n",
              "      <td>2.584376</td>\n",
              "      <td>0.125</td>\n",
              "      <td>14.059217</td>\n",
              "      <td>NaN</td>\n",
              "      <td>58.999092</td>\n",
              "      <td>89.028963</td>\n",
              "      <td>27.496051</td>\n",
              "    </tr>\n",
              "    <tr>\n",
              "      <th>10</th>\n",
              "      <td>21.664633</td>\n",
              "      <td>26.871163</td>\n",
              "      <td>22.143281</td>\n",
              "      <td>0.629894</td>\n",
              "      <td>2.590770</td>\n",
              "      <td>0.125</td>\n",
              "      <td>13.045943</td>\n",
              "      <td>NaN</td>\n",
              "      <td>-54.823731</td>\n",
              "      <td>-88.955025</td>\n",
              "      <td>26.245634</td>\n",
              "    </tr>\n",
              "    <tr>\n",
              "      <th>11</th>\n",
              "      <td>21.878440</td>\n",
              "      <td>33.758568</td>\n",
              "      <td>1.865455</td>\n",
              "      <td>33.867239</td>\n",
              "      <td>3.844969</td>\n",
              "      <td>0.125</td>\n",
              "      <td>35.184326</td>\n",
              "      <td>NaN</td>\n",
              "      <td>-0.005430</td>\n",
              "      <td>-0.311114</td>\n",
              "      <td>20.013280</td>\n",
              "    </tr>\n",
              "    <tr>\n",
              "      <th>12</th>\n",
              "      <td>63.148151</td>\n",
              "      <td>34.013540</td>\n",
              "      <td>40.598930</td>\n",
              "      <td>33.689581</td>\n",
              "      <td>3.983049</td>\n",
              "      <td>0.125</td>\n",
              "      <td>36.947515</td>\n",
              "      <td>NaN</td>\n",
              "      <td>0.014367</td>\n",
              "      <td>0.823097</td>\n",
              "      <td>22.551548</td>\n",
              "    </tr>\n",
              "    <tr>\n",
              "      <th>13</th>\n",
              "      <td>39.180846</td>\n",
              "      <td>23.126574</td>\n",
              "      <td>39.018633</td>\n",
              "      <td>3.117755</td>\n",
              "      <td>1.391828</td>\n",
              "      <td>0.125</td>\n",
              "      <td>5.731120</td>\n",
              "      <td>NaN</td>\n",
              "      <td>123.349047</td>\n",
              "      <td>89.535509</td>\n",
              "      <td>20.009477</td>\n",
              "    </tr>\n",
              "    <tr>\n",
              "      <th>14</th>\n",
              "      <td>38.949285</td>\n",
              "      <td>60.636477</td>\n",
              "      <td>39.245346</td>\n",
              "      <td>39.373195</td>\n",
              "      <td>1.476115</td>\n",
              "      <td>0.125</td>\n",
              "      <td>4.530407</td>\n",
              "      <td>NaN</td>\n",
              "      <td>-71.820611</td>\n",
              "      <td>-89.202289</td>\n",
              "      <td>21.265343</td>\n",
              "    </tr>\n",
              "  </tbody>\n",
              "</table>\n",
              "</div>"
            ],
            "text/plain": [
              "            0          1          2          3         4      5          6  \\\n",
              "0   40.733211  34.358104  41.060093  60.635137  2.499807  0.125  21.595404   \n",
              "1   24.000706   9.375336  23.983916  53.125330  1.266310  0.125  19.595805   \n",
              "2   41.000295   3.117732  40.792405  28.136778  2.489527  0.125  25.838548   \n",
              "3   38.465805  31.157725  24.592352   7.480060  3.833830  0.125  29.592747   \n",
              "4   24.815128  55.152086  38.653490  31.453684  3.592925  0.125  31.760916   \n",
              "5   24.195223   0.729189  39.040475  26.344439  3.809822  0.125  31.368997   \n",
              "6    1.853932  29.080760  21.887922  29.272115  3.905034  0.125  30.752233   \n",
              "7   41.860098  29.282451  63.135226  29.046302  3.944003  0.125  26.692565   \n",
              "8   38.684676  37.197069  23.916209  62.860986  3.679668  0.125  31.237266   \n",
              "9   22.131335  63.120655  21.665360  35.628553  2.584376  0.125  14.059217   \n",
              "10  21.664633  26.871163  22.143281   0.629894  2.590770  0.125  13.045943   \n",
              "11  21.878440  33.758568   1.865455  33.867239  3.844969  0.125  35.184326   \n",
              "12  63.148151  34.013540  40.598930  33.689581  3.983049  0.125  36.947515   \n",
              "13  39.180846  23.126574  39.018633   3.117755  1.391828  0.125   5.731120   \n",
              "14  38.949285  60.636477  39.245346  39.373195  1.476115  0.125   4.530407   \n",
              "\n",
              "     7        slope     degree     length  \n",
              "0  NaN    80.386907  89.287287  26.279066  \n",
              "1  NaN -2605.717332 -89.978012  43.749997  \n",
              "2  NaN  -120.347520 -89.523925  25.019910  \n",
              "3  NaN     1.706689  59.632685  27.442750  \n",
              "4  NaN    -1.712515 -59.717785  27.442932  \n",
              "5  NaN     1.725484  59.905674  29.606123  \n",
              "6  NaN     0.009552   0.547245  20.034904  \n",
              "7  NaN    -0.011100  -0.635944  21.276439  \n",
              "8  NaN    -1.737751 -60.081447  29.609867  \n",
              "9  NaN    58.999092  89.028963  27.496051  \n",
              "10 NaN   -54.823731 -88.955025  26.245634  \n",
              "11 NaN    -0.005430  -0.311114  20.013280  \n",
              "12 NaN     0.014367   0.823097  22.551548  \n",
              "13 NaN   123.349047  89.535509  20.009477  \n",
              "14 NaN   -71.820611 -89.202289  21.265343  "
            ]
          },
          "metadata": {
            "tags": []
          },
          "execution_count": 24
        }
      ]
    },
    {
      "metadata": {
        "id": "iAoWe47lm_jR",
        "colab_type": "code",
        "colab": {}
      },
      "cell_type": "code",
      "source": [
        "#fuction takes in lsd txt file and returns a dict that has all vertical and horizontal lines withco-ordinates (x1,y1,x2,y2)\n",
        "from collections import defaultdict\n",
        "def extract_lines(lines_df):\n",
        "  #x1, y1, x2, y2, width, p, -log_nfa.\n",
        "  \n",
        "  #decide horizontal/vertical based on slope\n",
        "  \n",
        "  vertical_lines = lines_df[ np.abs(lines_df['degree']) > 88.0 ]\n",
        "  horizontal_lines = lines_df[ np.abs(lines_df['degree']) < 1.0 ]\n",
        "  \n",
        "  ##y1 x1 y2 x2 is roi value. Store in roi format\n",
        "  lines_dict = defaultdict(list)\n",
        "  for line in vertical_lines.values:\n",
        "    lines_dict['vertical'].append(line)\n",
        "  for line in horizontal_lines.values:\n",
        "    lines_dict['horizontal'].append( line )\n",
        "  \n",
        "  return lines_dict"
      ],
      "execution_count": 0,
      "outputs": []
    },
    {
      "metadata": {
        "id": "HtBikU9cr3KD",
        "colab_type": "code",
        "outputId": "57b480b6-07e5-419a-b9a0-541176cc6f3f",
        "colab": {
          "base_uri": "https://localhost:8080/",
          "height": 595
        }
      },
      "cell_type": "code",
      "source": [
        "extract_lines(lines_df)"
      ],
      "execution_count": 0,
      "outputs": [
        {
          "output_type": "execute_result",
          "data": {
            "text/plain": [
              "defaultdict(list,\n",
              "            {'horizontal': [array([1.85393200e+00, 2.90807600e+01, 2.18879220e+01, 2.92721150e+01,\n",
              "                     3.90503400e+00, 1.25000000e-01, 3.07522330e+01,            nan,\n",
              "                     9.55151720e-03, 5.47244982e-01, 2.00349038e+01]),\n",
              "              array([ 4.18600980e+01,  2.92824510e+01,  6.31352260e+01,  2.90463020e+01,\n",
              "                      3.94400300e+00,  1.25000000e-01,  2.66925650e+01,             nan,\n",
              "                     -1.10997687e-02, -6.35943784e-01,  2.12764386e+01]),\n",
              "              array([ 2.18784400e+01,  3.37585680e+01,  1.86545500e+00,  3.38672390e+01,\n",
              "                      3.84496900e+00,  1.25000000e-01,  3.51843260e+01,             nan,\n",
              "                     -5.43002456e-03, -3.11114432e-01,  2.00132800e+01]),\n",
              "              array([6.31481510e+01, 3.40135400e+01, 4.05989300e+01, 3.36895810e+01,\n",
              "                     3.98304900e+00, 1.25000000e-01, 3.69475150e+01,            nan,\n",
              "                     1.43667491e-02, 8.23097461e-01, 2.25515480e+01])],\n",
              "             'vertical': [array([40.733211  , 34.358104  , 41.060093  , 60.635137  ,  2.499807  ,\n",
              "                      0.125     , 21.595404  ,         nan, 80.3869072 , 89.28728662,\n",
              "                     26.2790661 ]),\n",
              "              array([ 2.40007060e+01,  9.37533600e+00,  2.39839160e+01,  5.31253300e+01,\n",
              "                      1.26631000e+00,  1.25000000e-01,  1.95958050e+01,             nan,\n",
              "                     -2.60571733e+03, -8.99780115e+01,  4.37499972e+01]),\n",
              "              array([  41.000295  ,    3.117732  ,   40.792405  ,   28.136778  ,\n",
              "                        2.489527  ,    0.125     ,   25.838548  ,           nan,\n",
              "                     -120.34752032,  -89.52392487,   25.01990969]),\n",
              "              array([22.131335  , 63.120655  , 21.66536   , 35.628553  ,  2.584376  ,\n",
              "                      0.125     , 14.059217  ,         nan, 58.99909223, 89.02896313,\n",
              "                     27.49605072]),\n",
              "              array([ 21.664633  ,  26.871163  ,  22.143281  ,   0.629894  ,\n",
              "                       2.59077   ,   0.125     ,  13.045943  ,          nan,\n",
              "                     -54.82373059, -88.95502502,  26.24563397]),\n",
              "              array([ 39.180846  ,  23.126574  ,  39.018633  ,   3.117755  ,\n",
              "                       1.391828  ,   0.125     ,   5.73112   ,          nan,\n",
              "                     123.34904724,  89.53550898,  20.00947653]),\n",
              "              array([ 38.949285  ,  60.636477  ,  39.245346  ,  39.373195  ,\n",
              "                       1.476115  ,   0.125     ,   4.530407  ,          nan,\n",
              "                     -71.82061129, -89.2022892 ,  21.26534301])]})"
            ]
          },
          "metadata": {
            "tags": []
          },
          "execution_count": 15
        }
      ]
    },
    {
      "metadata": {
        "id": "o2KHzrCeDnti",
        "colab_type": "code",
        "colab": {}
      },
      "cell_type": "code",
      "source": [
        "#takes lines dataframe and tells which line is connected to which line. Returns a list of lists where each list contains\n",
        "#indices of lines a given line is connected to.\n",
        "\n",
        "#connected if one end of 1 matches some end of 2 within some threshold difference. threshold = +-5\n",
        "def is_connected(lines_df):\n",
        "  connections = []\n",
        "  for index,line in enumerate(lines_df.values):\n",
        "    \n",
        "    local = []\n",
        "    global_line = line\n",
        "    global_p1 = (line[0],line[1])\n",
        "    global_p2 = (line[2],line[3])\n",
        "    \n",
        "    for i in range(index+1,len(lines_df.values)):\n",
        "      \n",
        "      local_line = lines_df.values[i]\n",
        "      local_p1 = (local_line[0],local_line[1])\n",
        "      local_p2 = (local_line[2],local_line[3])\n",
        "      \n",
        "      \n",
        "      if( abs(global_p1[0] - local_p1[0])  < 5):\n",
        "        if( abs(global_p1[1] - local_p1[1])  < 5):\n",
        "          local.append((i,local_p1))\n",
        "          continue\n",
        "      \n",
        "      if( abs(global_p1[0] - local_p2[0])  < 5):\n",
        "        if( abs(global_p1[1] - local_p2[1])  < 5):\n",
        "          local.append((i,local_p2))\n",
        "          continue\n",
        "      \n",
        "      if( abs(global_p2[0] - local_p1[0])  < 5):\n",
        "        if( abs(global_p2[1] - local_p1[1])  < 5):\n",
        "          local.append((i,local_p1))\n",
        "          continue\n",
        "\n",
        "      if( abs(global_p2[0] - local_p2[0])  < 5):\n",
        "        if( abs(global_p2[1] - local_p2[1])  < 5):\n",
        "          local.append((i,local_p2))\n",
        "          continue \n",
        "      \n",
        "      \n",
        "        \n",
        "            \n",
        "    connections.append(local)\n",
        "    \n",
        "  return connections"
      ],
      "execution_count": 0,
      "outputs": []
    },
    {
      "metadata": {
        "id": "qQRmGe4CFu99",
        "colab_type": "code",
        "colab": {}
      },
      "cell_type": "code",
      "source": [
        "connections = is_connected(lines_df)"
      ],
      "execution_count": 0,
      "outputs": []
    },
    {
      "metadata": {
        "id": "FfRL_IesFzqt",
        "colab_type": "code",
        "outputId": "28649ae5-fd0c-400a-b040-9f8e50f069a0",
        "colab": {
          "base_uri": "https://localhost:8080/",
          "height": 527
        }
      },
      "cell_type": "code",
      "source": [
        "connections"
      ],
      "execution_count": 0,
      "outputs": [
        {
          "output_type": "execute_result",
          "data": {
            "text/plain": [
              "[[(3, (38.465804999999996, 31.157725)),\n",
              "  (4, (38.653490000000005, 31.453684000000003)),\n",
              "  (8, (38.684676, 37.197069)),\n",
              "  (12, (40.598929999999996, 33.689581)),\n",
              "  (14, (38.949284999999996, 60.636477))],\n",
              " [(3, (24.592351999999998, 7.480060000000001)), (4, (24.815128, 55.152086))],\n",
              " [(3, (38.465804999999996, 31.157725)),\n",
              "  (4, (38.653490000000005, 31.453684000000003)),\n",
              "  (5, (39.040475, 26.344439)),\n",
              "  (7, (41.860098, 29.282451000000002)),\n",
              "  (13, (39.018633, 3.117755))],\n",
              " [(4, (38.653490000000005, 31.453684000000003)),\n",
              "  (5, (39.040475, 26.344439)),\n",
              "  (7, (41.860098, 29.282451000000002)),\n",
              "  (12, (40.598929999999996, 33.689581))],\n",
              " [(7, (41.860098, 29.282451000000002)), (12, (40.598929999999996, 33.689581))],\n",
              " [(7, (41.860098, 29.282451000000002)),\n",
              "  (10, (22.143280999999998, 0.629894)),\n",
              "  (13, (39.180846, 23.126573999999998))],\n",
              " [(10, (21.664633, 26.871163)), (11, (1.8654549999999999, 33.867239))],\n",
              " [(12, (40.598929999999996, 33.689581))],\n",
              " [(9, (22.131335, 63.120655000000006)),\n",
              "  (12, (40.598929999999996, 33.689581)),\n",
              "  (14, (39.245346000000005, 39.373195))],\n",
              " [(11, (21.878439999999998, 33.758568))],\n",
              " [],\n",
              " [],\n",
              " [],\n",
              " [],\n",
              " []]"
            ]
          },
          "metadata": {
            "tags": []
          },
          "execution_count": 31
        }
      ]
    },
    {
      "metadata": {
        "id": "Grrz7uCSUEa9",
        "colab_type": "code",
        "colab": {}
      },
      "cell_type": "code",
      "source": [
        "#want all three points to be distinct. all 3 lines must be connected\n",
        "def are_points_distinct(p1,p2):\n",
        "  \n",
        "  if( abs(p2[0] - p1[0])  < 5):\n",
        "        if( abs(p2[1] - p1[1])  < 5):\n",
        "          return False\n",
        "  return True\n",
        "  \n",
        "  \n",
        "def triangles(connections):\n",
        "  \n",
        "  tri_list = []\n",
        "  \n",
        "  for index,each_first_connection in enumerate(connections):\n",
        "    \n",
        "    connected_indices_first = [i[0] for i in each_first_connection]\n",
        "    connected_points_first = [i[1] for i in each_first_connection]\n",
        "    \n",
        "    for j,each_index_1 in enumerate(connected_indices_first):\n",
        "      \n",
        "      connection_second = connections[each_index_1]\n",
        "      connected_indices_second = [i[0] for i in connection_second]\n",
        "      connected_points_second = [i[1] for i in connection_second]\n",
        "      \n",
        "      for i,each_index_2 in enumerate(connected_indices_second):\n",
        "        \n",
        "        if each_index_2 in connected_indices_first:\n",
        "            \n",
        "            index_3 = connected_indices_first.index(each_index_2)\n",
        "           \n",
        "            p1 = connected_points_first[j]\n",
        "            p2 = connected_points_second[i]\n",
        "            p3 = connected_points_first[index_3]\n",
        "            \n",
        "            if are_points_distinct(p1,p2) and are_points_distinct(p2,p3):\n",
        "              tri_list.append((each_index_2,each_index_1,index_3))\n",
        "  return tri_list\n",
        "      \n",
        "    "
      ],
      "execution_count": 0,
      "outputs": []
    },
    {
      "metadata": {
        "id": "2z753RsUTper",
        "colab_type": "code",
        "colab": {}
      },
      "cell_type": "code",
      "source": [
        "tri_list = triangles(connections)"
      ],
      "execution_count": 0,
      "outputs": []
    },
    {
      "metadata": {
        "id": "CP8JtmA9T1ro",
        "colab_type": "code",
        "outputId": "7917159d-a32a-4a8a-d234-4a8fcc1a8ac5",
        "colab": {
          "base_uri": "https://localhost:8080/",
          "height": 34
        }
      },
      "cell_type": "code",
      "source": [
        "tri_list"
      ],
      "execution_count": 0,
      "outputs": [
        {
          "output_type": "execute_result",
          "data": {
            "text/plain": [
              "[(4, 3, 1)]"
            ]
          },
          "metadata": {
            "tags": []
          },
          "execution_count": 42
        }
      ]
    },
    {
      "metadata": {
        "id": "T0E0omDUoHpm",
        "colab_type": "code",
        "colab": {}
      },
      "cell_type": "code",
      "source": [
        "#look at 60 degree lines. take +-5 coordinate range and search for a vertical line in that range\n",
        "def has_equilateral(connections):\n",
        "  #m2-m1 by 1+m1*m2"
      ],
      "execution_count": 0,
      "outputs": []
    },
    {
      "metadata": {
        "id": "CsgcnRYqtGQw",
        "colab_type": "code",
        "colab": {}
      },
      "cell_type": "code",
      "source": [
        "#for circle semi circle use circle mask rcnn?"
      ],
      "execution_count": 0,
      "outputs": []
    },
    {
      "metadata": {
        "id": "hhvgrxpRt2cz",
        "colab_type": "code",
        "colab": {}
      },
      "cell_type": "code",
      "source": [
        "#lsd run on circle"
      ],
      "execution_count": 0,
      "outputs": []
    },
    {
      "metadata": {
        "id": "TOo4A3DWt3tA",
        "colab_type": "code",
        "colab": {}
      },
      "cell_type": "code",
      "source": [
        "# angle between each pair of lines?\n",
        "# line isConnected\n",
        "# problem of redundant lines? Does it exist?"
      ],
      "execution_count": 0,
      "outputs": []
    },
    {
      "metadata": {
        "id": "L4NniUBeVgUz",
        "colab_type": "code",
        "colab": {}
      },
      "cell_type": "code",
      "source": [
        "!./lsd -P led1.result.eps resized_led1.PGM led1.result.txt"
      ],
      "execution_count": 0,
      "outputs": []
    },
    {
      "metadata": {
        "id": "WmoDUrabVkv7",
        "colab_type": "code",
        "outputId": "10385de5-e8d7-473d-d5f1-01e96dc0404d",
        "colab": {
          "base_uri": "https://localhost:8080/",
          "height": 349
        }
      },
      "cell_type": "code",
      "source": [
        ""
      ],
      "execution_count": 0,
      "outputs": [
        {
          "output_type": "display_data",
          "data": {
            "image/png": "[encoded data removed]",
            "text/plain": [
              "<Figure size 576x396 with 1 Axes>"
            ]
          },
          "metadata": {
            "tags": []
          }
        }
      ]
    },
    {
      "metadata": {
        "id": "KHHK7xJTYApy",
        "colab_type": "code",
        "colab": {}
      },
      "cell_type": "code",
      "source": [
        "!./lsd -P led.result.eps resized_led.PGM led.result.txt"
      ],
      "execution_count": 0,
      "outputs": []
    },
    {
      "metadata": {
        "id": "9gM2KnrlZ5nc",
        "colab_type": "code",
        "outputId": "3e9d7b6a-179b-4f5e-f9b1-889c2d0f428a",
        "colab": {
          "base_uri": "https://localhost:8080/",
          "height": 607
        }
      },
      "cell_type": "code",
      "source": [
        "lines_df = augment_lines('led1.result.txt')\n",
        "lines_df"
      ],
      "execution_count": 0,
      "outputs": [
        {
          "output_type": "execute_result",
          "data": {
            "text/html": [
              "<div>\n",
              "<style scoped>\n",
              "    .dataframe tbody tr th:only-of-type {\n",
              "        vertical-align: middle;\n",
              "    }\n",
              "\n",
              "    .dataframe tbody tr th {\n",
              "        vertical-align: top;\n",
              "    }\n",
              "\n",
              "    .dataframe thead th {\n",
              "        text-align: right;\n",
              "    }\n",
              "</style>\n",
              "<table border=\"1\" class=\"dataframe\">\n",
              "  <thead>\n",
              "    <tr style=\"text-align: right;\">\n",
              "      <th></th>\n",
              "      <th>0</th>\n",
              "      <th>1</th>\n",
              "      <th>2</th>\n",
              "      <th>3</th>\n",
              "      <th>4</th>\n",
              "      <th>5</th>\n",
              "      <th>6</th>\n",
              "      <th>7</th>\n",
              "      <th>slope</th>\n",
              "      <th>degree</th>\n",
              "      <th>length</th>\n",
              "    </tr>\n",
              "  </thead>\n",
              "  <tbody>\n",
              "    <tr>\n",
              "      <th>0</th>\n",
              "      <td>26.169113</td>\n",
              "      <td>15.733956</td>\n",
              "      <td>28.190739</td>\n",
              "      <td>5.638164</td>\n",
              "      <td>2.451336</td>\n",
              "      <td>0.125000</td>\n",
              "      <td>3.651939</td>\n",
              "      <td>NaN</td>\n",
              "      <td>-4.993897</td>\n",
              "      <td>-78.676603</td>\n",
              "      <td>10.296212</td>\n",
              "    </tr>\n",
              "    <tr>\n",
              "      <th>1</th>\n",
              "      <td>38.467443</td>\n",
              "      <td>38.122823</td>\n",
              "      <td>38.570799</td>\n",
              "      <td>54.380113</td>\n",
              "      <td>1.345335</td>\n",
              "      <td>0.125000</td>\n",
              "      <td>1.026215</td>\n",
              "      <td>NaN</td>\n",
              "      <td>157.294110</td>\n",
              "      <td>89.635746</td>\n",
              "      <td>16.257619</td>\n",
              "    </tr>\n",
              "    <tr>\n",
              "      <th>2</th>\n",
              "      <td>38.534858</td>\n",
              "      <td>18.118714</td>\n",
              "      <td>38.422563</td>\n",
              "      <td>33.127226</td>\n",
              "      <td>1.352841</td>\n",
              "      <td>0.125000</td>\n",
              "      <td>2.118760</td>\n",
              "      <td>NaN</td>\n",
              "      <td>-133.652540</td>\n",
              "      <td>-89.571316</td>\n",
              "      <td>15.008932</td>\n",
              "    </tr>\n",
              "    <tr>\n",
              "      <th>3</th>\n",
              "      <td>30.717905</td>\n",
              "      <td>15.649539</td>\n",
              "      <td>33.041338</td>\n",
              "      <td>6.852902</td>\n",
              "      <td>1.915273</td>\n",
              "      <td>0.125000</td>\n",
              "      <td>0.312580</td>\n",
              "      <td>NaN</td>\n",
              "      <td>-3.786052</td>\n",
              "      <td>-75.204498</td>\n",
              "      <td>9.098306</td>\n",
              "    </tr>\n",
              "    <tr>\n",
              "      <th>4</th>\n",
              "      <td>20.642458</td>\n",
              "      <td>36.652763</td>\n",
              "      <td>9.353249</td>\n",
              "      <td>36.844526</td>\n",
              "      <td>2.648249</td>\n",
              "      <td>0.125000</td>\n",
              "      <td>8.056239</td>\n",
              "      <td>NaN</td>\n",
              "      <td>-0.016986</td>\n",
              "      <td>-0.973155</td>\n",
              "      <td>11.290838</td>\n",
              "    </tr>\n",
              "    <tr>\n",
              "      <th>5</th>\n",
              "      <td>55.634685</td>\n",
              "      <td>36.838962</td>\n",
              "      <td>39.376194</td>\n",
              "      <td>36.716520</td>\n",
              "      <td>2.594064</td>\n",
              "      <td>0.125000</td>\n",
              "      <td>7.963679</td>\n",
              "      <td>NaN</td>\n",
              "      <td>0.007531</td>\n",
              "      <td>0.431484</td>\n",
              "      <td>16.258952</td>\n",
              "    </tr>\n",
              "    <tr>\n",
              "      <th>6</th>\n",
              "      <td>39.372603</td>\n",
              "      <td>34.041753</td>\n",
              "      <td>54.380818</td>\n",
              "      <td>33.933787</td>\n",
              "      <td>1.348879</td>\n",
              "      <td>0.125000</td>\n",
              "      <td>1.215670</td>\n",
              "      <td>NaN</td>\n",
              "      <td>-0.007194</td>\n",
              "      <td>-0.412167</td>\n",
              "      <td>15.008603</td>\n",
              "    </tr>\n",
              "    <tr>\n",
              "      <th>7</th>\n",
              "      <td>9.366358</td>\n",
              "      <td>33.871917</td>\n",
              "      <td>20.629313</td>\n",
              "      <td>34.002226</td>\n",
              "      <td>1.365605</td>\n",
              "      <td>0.015625</td>\n",
              "      <td>3.186968</td>\n",
              "      <td>NaN</td>\n",
              "      <td>0.011570</td>\n",
              "      <td>0.662865</td>\n",
              "      <td>11.263709</td>\n",
              "    </tr>\n",
              "    <tr>\n",
              "      <th>8</th>\n",
              "      <td>25.423440</td>\n",
              "      <td>49.227917</td>\n",
              "      <td>34.415857</td>\n",
              "      <td>36.904814</td>\n",
              "      <td>2.838226</td>\n",
              "      <td>0.125000</td>\n",
              "      <td>10.463298</td>\n",
              "      <td>NaN</td>\n",
              "      <td>-1.370388</td>\n",
              "      <td>-53.881016</td>\n",
              "      <td>15.255243</td>\n",
              "    </tr>\n",
              "    <tr>\n",
              "      <th>9</th>\n",
              "      <td>35.233571</td>\n",
              "      <td>40.012027</td>\n",
              "      <td>23.906980</td>\n",
              "      <td>55.277747</td>\n",
              "      <td>2.784820</td>\n",
              "      <td>0.125000</td>\n",
              "      <td>14.731830</td>\n",
              "      <td>NaN</td>\n",
              "      <td>-1.347777</td>\n",
              "      <td>-53.425973</td>\n",
              "      <td>19.008784</td>\n",
              "    </tr>\n",
              "    <tr>\n",
              "      <th>10</th>\n",
              "      <td>23.852177</td>\n",
              "      <td>16.027487</td>\n",
              "      <td>34.823833</td>\n",
              "      <td>30.279473</td>\n",
              "      <td>2.822076</td>\n",
              "      <td>0.125000</td>\n",
              "      <td>8.421973</td>\n",
              "      <td>NaN</td>\n",
              "      <td>1.298982</td>\n",
              "      <td>52.409719</td>\n",
              "      <td>17.986004</td>\n",
              "    </tr>\n",
              "    <tr>\n",
              "      <th>11</th>\n",
              "      <td>35.115384</td>\n",
              "      <td>8.864616</td>\n",
              "      <td>32.817787</td>\n",
              "      <td>16.785892</td>\n",
              "      <td>2.905127</td>\n",
              "      <td>0.125000</td>\n",
              "      <td>1.050459</td>\n",
              "      <td>NaN</td>\n",
              "      <td>-3.447635</td>\n",
              "      <td>-73.824992</td>\n",
              "      <td>8.247761</td>\n",
              "    </tr>\n",
              "    <tr>\n",
              "      <th>12</th>\n",
              "      <td>34.432181</td>\n",
              "      <td>34.334079</td>\n",
              "      <td>24.961337</td>\n",
              "      <td>21.099942</td>\n",
              "      <td>3.049550</td>\n",
              "      <td>0.125000</td>\n",
              "      <td>10.569139</td>\n",
              "      <td>NaN</td>\n",
              "      <td>1.397356</td>\n",
              "      <td>54.411072</td>\n",
              "      <td>16.273883</td>\n",
              "    </tr>\n",
              "    <tr>\n",
              "      <th>13</th>\n",
              "      <td>24.501082</td>\n",
              "      <td>23.125007</td>\n",
              "      <td>24.499606</td>\n",
              "      <td>48.125007</td>\n",
              "      <td>2.500590</td>\n",
              "      <td>0.125000</td>\n",
              "      <td>20.837482</td>\n",
              "      <td>NaN</td>\n",
              "      <td>-16937.669377</td>\n",
              "      <td>-89.996617</td>\n",
              "      <td>25.000000</td>\n",
              "    </tr>\n",
              "    <tr>\n",
              "      <th>14</th>\n",
              "      <td>36.429641</td>\n",
              "      <td>30.638735</td>\n",
              "      <td>36.043303</td>\n",
              "      <td>18.112099</td>\n",
              "      <td>1.557673</td>\n",
              "      <td>0.125000</td>\n",
              "      <td>7.537300</td>\n",
              "      <td>NaN</td>\n",
              "      <td>32.424033</td>\n",
              "      <td>88.233482</td>\n",
              "      <td>12.532592</td>\n",
              "    </tr>\n",
              "    <tr>\n",
              "      <th>15</th>\n",
              "      <td>36.070550</td>\n",
              "      <td>54.385716</td>\n",
              "      <td>36.401784</td>\n",
              "      <td>40.613619</td>\n",
              "      <td>1.520135</td>\n",
              "      <td>0.125000</td>\n",
              "      <td>9.343480</td>\n",
              "      <td>NaN</td>\n",
              "      <td>-41.578150</td>\n",
              "      <td>-88.622239</td>\n",
              "      <td>13.776080</td>\n",
              "    </tr>\n",
              "    <tr>\n",
              "      <th>16</th>\n",
              "      <td>21.785019</td>\n",
              "      <td>31.873173</td>\n",
              "      <td>22.089459</td>\n",
              "      <td>16.879354</td>\n",
              "      <td>2.753237</td>\n",
              "      <td>0.125000</td>\n",
              "      <td>13.902429</td>\n",
              "      <td>NaN</td>\n",
              "      <td>-49.250489</td>\n",
              "      <td>-88.836805</td>\n",
              "      <td>14.996909</td>\n",
              "    </tr>\n",
              "    <tr>\n",
              "      <th>17</th>\n",
              "      <td>22.204852</td>\n",
              "      <td>54.365635</td>\n",
              "      <td>21.743857</td>\n",
              "      <td>38.128723</td>\n",
              "      <td>2.889223</td>\n",
              "      <td>0.125000</td>\n",
              "      <td>16.495398</td>\n",
              "      <td>NaN</td>\n",
              "      <td>35.221449</td>\n",
              "      <td>88.373707</td>\n",
              "      <td>16.243455</td>\n",
              "    </tr>\n",
              "  </tbody>\n",
              "</table>\n",
              "</div>"
            ],
            "text/plain": [
              "            0          1          2          3         4         5          6  \\\n",
              "0   26.169113  15.733956  28.190739   5.638164  2.451336  0.125000   3.651939   \n",
              "1   38.467443  38.122823  38.570799  54.380113  1.345335  0.125000   1.026215   \n",
              "2   38.534858  18.118714  38.422563  33.127226  1.352841  0.125000   2.118760   \n",
              "3   30.717905  15.649539  33.041338   6.852902  1.915273  0.125000   0.312580   \n",
              "4   20.642458  36.652763   9.353249  36.844526  2.648249  0.125000   8.056239   \n",
              "5   55.634685  36.838962  39.376194  36.716520  2.594064  0.125000   7.963679   \n",
              "6   39.372603  34.041753  54.380818  33.933787  1.348879  0.125000   1.215670   \n",
              "7    9.366358  33.871917  20.629313  34.002226  1.365605  0.015625   3.186968   \n",
              "8   25.423440  49.227917  34.415857  36.904814  2.838226  0.125000  10.463298   \n",
              "9   35.233571  40.012027  23.906980  55.277747  2.784820  0.125000  14.731830   \n",
              "10  23.852177  16.027487  34.823833  30.279473  2.822076  0.125000   8.421973   \n",
              "11  35.115384   8.864616  32.817787  16.785892  2.905127  0.125000   1.050459   \n",
              "12  34.432181  34.334079  24.961337  21.099942  3.049550  0.125000  10.569139   \n",
              "13  24.501082  23.125007  24.499606  48.125007  2.500590  0.125000  20.837482   \n",
              "14  36.429641  30.638735  36.043303  18.112099  1.557673  0.125000   7.537300   \n",
              "15  36.070550  54.385716  36.401784  40.613619  1.520135  0.125000   9.343480   \n",
              "16  21.785019  31.873173  22.089459  16.879354  2.753237  0.125000  13.902429   \n",
              "17  22.204852  54.365635  21.743857  38.128723  2.889223  0.125000  16.495398   \n",
              "\n",
              "     7         slope     degree     length  \n",
              "0  NaN     -4.993897 -78.676603  10.296212  \n",
              "1  NaN    157.294110  89.635746  16.257619  \n",
              "2  NaN   -133.652540 -89.571316  15.008932  \n",
              "3  NaN     -3.786052 -75.204498   9.098306  \n",
              "4  NaN     -0.016986  -0.973155  11.290838  \n",
              "5  NaN      0.007531   0.431484  16.258952  \n",
              "6  NaN     -0.007194  -0.412167  15.008603  \n",
              "7  NaN      0.011570   0.662865  11.263709  \n",
              "8  NaN     -1.370388 -53.881016  15.255243  \n",
              "9  NaN     -1.347777 -53.425973  19.008784  \n",
              "10 NaN      1.298982  52.409719  17.986004  \n",
              "11 NaN     -3.447635 -73.824992   8.247761  \n",
              "12 NaN      1.397356  54.411072  16.273883  \n",
              "13 NaN -16937.669377 -89.996617  25.000000  \n",
              "14 NaN     32.424033  88.233482  12.532592  \n",
              "15 NaN    -41.578150 -88.622239  13.776080  \n",
              "16 NaN    -49.250489 -88.836805  14.996909  \n",
              "17 NaN     35.221449  88.373707  16.243455  "
            ]
          },
          "metadata": {
            "tags": []
          },
          "execution_count": 36
        }
      ]
    },
    {
      "metadata": {
        "id": "fxsR5Q9kaEuO",
        "colab_type": "code",
        "outputId": "18bac3d7-0c0d-4e0d-a044-f6d8c564ee4a",
        "colab": {
          "base_uri": "https://localhost:8080/",
          "height": 366
        }
      },
      "cell_type": "code",
      "source": [
        "img = cv2.imread('/content/drive/My Drive/lsd_1.6/resized_led1.png')\n",
        "plt.imshow(img)"
      ],
      "execution_count": 0,
      "outputs": [
        {
          "output_type": "execute_result",
          "data": {
            "text/plain": [
              "<matplotlib.image.AxesImage at 0x7fe42ccbf470>"
            ]
          },
          "metadata": {
            "tags": []
          },
          "execution_count": 37
        },
        {
          "output_type": "display_data",
          "data": {
            "image/png": "[encoded data removed]",
            "text/plain": [
              "<Figure size 576x396 with 1 Axes>"
            ]
          },
          "metadata": {
            "tags": []
          }
        }
      ]
    },
    {
      "metadata": {
        "id": "ndNcdzJ23YRK",
        "colab_type": "code",
        "colab": {}
      },
      "cell_type": "code",
      "source": [
        "connections = is_connected(lines_df)"
      ],
      "execution_count": 0,
      "outputs": []
    },
    {
      "metadata": {
        "id": "mf5hmYC43fgw",
        "colab_type": "code",
        "colab": {}
      },
      "cell_type": "code",
      "source": [
        "triangle = triangles(connections)"
      ],
      "execution_count": 0,
      "outputs": []
    },
    {
      "metadata": {
        "id": "ikEbskd03gH5",
        "colab_type": "code",
        "outputId": "bd83d279-5b1d-4eee-bc11-e0d3ae5aa888",
        "colab": {
          "base_uri": "https://localhost:8080/",
          "height": 34
        }
      },
      "cell_type": "code",
      "source": [
        "triangle"
      ],
      "execution_count": 0,
      "outputs": [
        {
          "output_type": "execute_result",
          "data": {
            "text/plain": [
              "[(6, 5, 2), (6, 5, 1), (13, 12, 2)]"
            ]
          },
          "metadata": {
            "tags": []
          },
          "execution_count": 44
        }
      ]
    },
    {
      "metadata": {
        "id": "FQx14R823o0o",
        "colab_type": "code",
        "outputId": "08830be2-451d-4627-da13-5810ec0d8a38",
        "colab": {
          "base_uri": "https://localhost:8080/",
          "height": 34
        }
      },
      "cell_type": "code",
      "source": [
        "'''6 and 5 are redundant lines!!!'''\n",
        "'''remove redundant lines\n",
        "12 and 2'''"
      ],
      "execution_count": 0,
      "outputs": [
        {
          "output_type": "execute_result",
          "data": {
            "text/plain": [
              "'remove redundant lines\\n12 and 2'"
            ]
          },
          "metadata": {
            "tags": []
          },
          "execution_count": 45
        }
      ]
    },
    {
      "metadata": {
        "id": "U4yoYkX17khX",
        "colab_type": "code",
        "colab": {}
      },
      "cell_type": "code",
      "source": [
        "def redundant_lines(lines_df):"
      ],
      "execution_count": 0,
      "outputs": []
    }
  ]
}